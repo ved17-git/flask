{
 "cells": [
  {
   "cell_type": "code",
   "execution_count": 1,
   "id": "a0442c94",
   "metadata": {},
   "outputs": [],
   "source": [
    "import pandas as pd\n",
    "from sklearn.feature_extraction.text import CountVectorizer\n",
    "from sklearn.metrics.pairwise import cosine_similarity\n",
    "import pickle"
   ]
  },
  {
   "cell_type": "code",
   "execution_count": 2,
   "id": "9a7fd4a2",
   "metadata": {},
   "outputs": [],
   "source": [
    "# Load the dataset\n",
    "movies_df = pd.read_csv(\"C:\\\\Users\\\\manoj\\\\Desktop\\\\Mini_Project\\\\project.csv\")"
   ]
  },
  {
   "cell_type": "code",
   "execution_count": 9,
   "id": "bbf72155",
   "metadata": {},
   "outputs": [
    {
     "data": {
      "text/html": [
       "<div>\n",
       "<style scoped>\n",
       "    .dataframe tbody tr th:only-of-type {\n",
       "        vertical-align: middle;\n",
       "    }\n",
       "\n",
       "    .dataframe tbody tr th {\n",
       "        vertical-align: top;\n",
       "    }\n",
       "\n",
       "    .dataframe thead th {\n",
       "        text-align: right;\n",
       "    }\n",
       "</style>\n",
       "<table border=\"1\" class=\"dataframe\">\n",
       "  <thead>\n",
       "    <tr style=\"text-align: right;\">\n",
       "      <th></th>\n",
       "      <th>ID</th>\n",
       "      <th>Name</th>\n",
       "      <th>Genre</th>\n",
       "      <th>Language</th>\n",
       "      <th>Name_cleaned</th>\n",
       "    </tr>\n",
       "  </thead>\n",
       "  <tbody>\n",
       "    <tr>\n",
       "      <th>0</th>\n",
       "      <td>tt15354916</td>\n",
       "      <td>Jawan</td>\n",
       "      <td>Action, Thriller</td>\n",
       "      <td>Hindi</td>\n",
       "      <td>jawan</td>\n",
       "    </tr>\n",
       "    <tr>\n",
       "      <th>1</th>\n",
       "      <td>tt15748830</td>\n",
       "      <td>Jaane Jaan</td>\n",
       "      <td>Crime, Drama, Mystery</td>\n",
       "      <td>Hindi</td>\n",
       "      <td>jaane jaan</td>\n",
       "    </tr>\n",
       "    <tr>\n",
       "      <th>2</th>\n",
       "      <td>tt11663228</td>\n",
       "      <td>Jailer</td>\n",
       "      <td>Action, Comedy, Crime</td>\n",
       "      <td>Hindi</td>\n",
       "      <td>jailer</td>\n",
       "    </tr>\n",
       "    <tr>\n",
       "      <th>3</th>\n",
       "      <td>tt14993250</td>\n",
       "      <td>Rocky Aur Rani Kii Prem Kahaani</td>\n",
       "      <td>Comedy, Drama, Family</td>\n",
       "      <td>Hindi</td>\n",
       "      <td>rocky aur rani kii prem kahaani</td>\n",
       "    </tr>\n",
       "    <tr>\n",
       "      <th>4</th>\n",
       "      <td>tt15732324</td>\n",
       "      <td>OMG 2</td>\n",
       "      <td>Comedy, Drama</td>\n",
       "      <td>Hindi</td>\n",
       "      <td>omg 2</td>\n",
       "    </tr>\n",
       "  </tbody>\n",
       "</table>\n",
       "</div>"
      ],
      "text/plain": [
       "           ID                             Name                  Genre  \\\n",
       "0  tt15354916                            Jawan       Action, Thriller   \n",
       "1  tt15748830                       Jaane Jaan  Crime, Drama, Mystery   \n",
       "2  tt11663228                           Jailer  Action, Comedy, Crime   \n",
       "3  tt14993250  Rocky Aur Rani Kii Prem Kahaani  Comedy, Drama, Family   \n",
       "4  tt15732324                            OMG 2          Comedy, Drama   \n",
       "\n",
       "  Language                     Name_cleaned  \n",
       "0    Hindi                            jawan  \n",
       "1    Hindi                       jaane jaan  \n",
       "2    Hindi                           jailer  \n",
       "3    Hindi  rocky aur rani kii prem kahaani  \n",
       "4    Hindi                            omg 2  "
      ]
     },
     "execution_count": 9,
     "metadata": {},
     "output_type": "execute_result"
    }
   ],
   "source": [
    "movies_df.head()"
   ]
  },
  {
   "cell_type": "code",
   "execution_count": 10,
   "id": "c7b53a86",
   "metadata": {},
   "outputs": [
    {
     "data": {
      "text/html": [
       "<div>\n",
       "<style scoped>\n",
       "    .dataframe tbody tr th:only-of-type {\n",
       "        vertical-align: middle;\n",
       "    }\n",
       "\n",
       "    .dataframe tbody tr th {\n",
       "        vertical-align: top;\n",
       "    }\n",
       "\n",
       "    .dataframe thead th {\n",
       "        text-align: right;\n",
       "    }\n",
       "</style>\n",
       "<table border=\"1\" class=\"dataframe\">\n",
       "  <thead>\n",
       "    <tr style=\"text-align: right;\">\n",
       "      <th></th>\n",
       "      <th>ID</th>\n",
       "      <th>Name</th>\n",
       "      <th>Genre</th>\n",
       "      <th>Language</th>\n",
       "      <th>Name_cleaned</th>\n",
       "    </tr>\n",
       "  </thead>\n",
       "  <tbody>\n",
       "    <tr>\n",
       "      <th>2496</th>\n",
       "      <td>tt2385227</td>\n",
       "      <td>Sunrise</td>\n",
       "      <td>Crime, Mystery, Drama</td>\n",
       "      <td>Marathi</td>\n",
       "      <td>sunrise</td>\n",
       "    </tr>\n",
       "    <tr>\n",
       "      <th>2497</th>\n",
       "      <td>tt4794158</td>\n",
       "      <td>Sanwad</td>\n",
       "      <td>Horror, Mystery, Romance, Drama</td>\n",
       "      <td>Marathi</td>\n",
       "      <td>sanwad</td>\n",
       "    </tr>\n",
       "    <tr>\n",
       "      <th>2498</th>\n",
       "      <td>tt6912558</td>\n",
       "      <td>FU: Friendship Unlimited</td>\n",
       "      <td>Musical, Comedy, Family, Romance</td>\n",
       "      <td>Marathi</td>\n",
       "      <td>fu: friendship unlimited</td>\n",
       "    </tr>\n",
       "    <tr>\n",
       "      <th>2499</th>\n",
       "      <td>tt4473386</td>\n",
       "      <td>Gadbad Gondhal</td>\n",
       "      <td>Drama, Family, Romance</td>\n",
       "      <td>Marathi</td>\n",
       "      <td>gadbad gondhal</td>\n",
       "    </tr>\n",
       "    <tr>\n",
       "      <th>2500</th>\n",
       "      <td>tt7430788</td>\n",
       "      <td>Gotya</td>\n",
       "      <td>Drama, Family, Sport</td>\n",
       "      <td>Marathi</td>\n",
       "      <td>gotya</td>\n",
       "    </tr>\n",
       "  </tbody>\n",
       "</table>\n",
       "</div>"
      ],
      "text/plain": [
       "             ID                      Name                               Genre  \\\n",
       "2496  tt2385227                   Sunrise         Crime, Mystery, Drama         \n",
       "2497  tt4794158                    Sanwad     Horror, Mystery, Romance, Drama   \n",
       "2498  tt6912558  FU: Friendship Unlimited    Musical, Comedy, Family, Romance   \n",
       "2499  tt4473386            Gadbad Gondhal  Drama, Family, Romance               \n",
       "2500  tt7430788                     Gotya    Drama, Family, Sport               \n",
       "\n",
       "     Language              Name_cleaned  \n",
       "2496  Marathi                   sunrise  \n",
       "2497  Marathi                    sanwad  \n",
       "2498  Marathi  fu: friendship unlimited  \n",
       "2499  Marathi            gadbad gondhal  \n",
       "2500  Marathi                     gotya  "
      ]
     },
     "execution_count": 10,
     "metadata": {},
     "output_type": "execute_result"
    }
   ],
   "source": [
    "movies_df.tail()"
   ]
  },
  {
   "cell_type": "code",
   "execution_count": 3,
   "id": "bae54c11",
   "metadata": {},
   "outputs": [],
   "source": [
    "# Clean the dataset\n",
    "# Fill missing values in 'Genre' and 'Language'\n",
    "movies_df['Genre'] = movies_df['Genre'].fillna('')\n",
    "movies_df['Language'] = movies_df['Language'].fillna('')\n"
   ]
  },
  {
   "cell_type": "code",
   "execution_count": 4,
   "id": "cdf964f1",
   "metadata": {},
   "outputs": [],
   "source": [
    "# Create a new column with lowercase movie names for case-insensitive matching\n",
    "movies_df['Name_cleaned'] = movies_df['Name'].str.lower()"
   ]
  },
  {
   "cell_type": "code",
   "execution_count": 5,
   "id": "4e67a60a",
   "metadata": {},
   "outputs": [],
   "source": [
    "# Vectorize the 'Genre' column\n",
    "count_vectorizer = CountVectorizer()\n",
    "count_matrix = count_vectorizer.fit_transform(movies_df['Genre'])"
   ]
  },
  {
   "cell_type": "code",
   "execution_count": 6,
   "id": "f84b6bc8",
   "metadata": {},
   "outputs": [],
   "source": [
    "# Compute the cosine similarity matrix based on the 'Genre'\n",
    "cosine_sim = cosine_similarity(count_matrix)"
   ]
  },
  {
   "cell_type": "code",
   "execution_count": 7,
   "id": "288db1aa",
   "metadata": {},
   "outputs": [
    {
     "name": "stdout",
     "output_type": "stream",
     "text": [
      "Data cleaned and saved successfully.\n"
     ]
    }
   ],
   "source": [
    "# Save cleaned data and cosine similarity matrix using Pickle\n",
    "# Ensure the paths match those used in your Flask app\n",
    "with open('cleaned_movie_list.pkl', 'wb') as f:\n",
    "    pickle.dump(movies_df, f)\n",
    "\n",
    "with open('genre_similarity.pkl', 'wb') as f:\n",
    "    pickle.dump(cosine_sim, f)\n",
    "\n",
    "print(\"Data cleaned and saved successfully.\")"
   ]
  },
  {
   "cell_type": "code",
   "execution_count": null,
   "id": "dbf41570",
   "metadata": {},
   "outputs": [],
   "source": []
  }
 ],
 "metadata": {
  "kernelspec": {
   "display_name": "Python 3 (ipykernel)",
   "language": "python",
   "name": "python3"
  },
  "language_info": {
   "codemirror_mode": {
    "name": "ipython",
    "version": 3
   },
   "file_extension": ".py",
   "mimetype": "text/x-python",
   "name": "python",
   "nbconvert_exporter": "python",
   "pygments_lexer": "ipython3",
   "version": "3.11.5"
  }
 },
 "nbformat": 4,
 "nbformat_minor": 5
}
